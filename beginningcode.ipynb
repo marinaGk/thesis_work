{
 "cells": [
  {
   "cell_type": "markdown",
   "metadata": {},
   "source": [
    "Steps to be followed:\n",
    "\n",
    "1. calculate missing data per column to figure if it can be used - done\n",
    "2. according to bibliography and columns, figure out those to remain - done\n",
    "3. normalization? do we need to?\n",
    "4. outliers? - done\n",
    "5. convert everything into numerical and normalized if needs be\n",
    "6. separate into training, test, evaluation\n"
   ]
  },
  {
   "cell_type": "code",
   "execution_count": null,
   "metadata": {},
   "outputs": [],
   "source": [
    "import pandas as pd \n",
    "import pathlib\n",
    "\n",
    "#create dataframe from data csv file as df\n",
    "df = pd.read_csv(\"db_measurements_v2.1.0.csv\") "
   ]
  },
  {
   "cell_type": "code",
   "execution_count": 6,
   "metadata": {},
   "outputs": [],
   "source": [
    "#cell to find percentage of NaNs per column, types it in txt file\n",
    "\n",
    "#create percentages\n",
    "size = df['index'].size + 1\n",
    "nan_array = df.isnull().sum() / size * 100 #creates a series of the percentages\n",
    "\n",
    "#store in file\n",
    "nan_array_string = [\"%.2f\" % i for i in nan_array] #turns percentages into strings\n",
    "\n",
    "data = {df.columns[col]: nan_array_string[col] for col in range(nan_array.size)} #makes dict and dataframe\n",
    "nan_df = pd.DataFrame(data.items())\n",
    "\n",
    "path = str(pathlib.Path().resolve()) + '\\data.txt' #stores in file\n",
    "nan_df.to_csv(path, header=None, index = None, sep = ' ')"
   ]
  },
  {
   "cell_type": "markdown",
   "metadata": {},
   "source": [
    "Picking between columns to be used\n",
    "\n",
    "Simply by sorting the percentages of NaN cells it is found that only a few of the columns are filled to more than 50%.\n",
    "Following that, according to the bibliography, most of the parameters usually taken into consideration during experiments are:\n",
    "\n",
    "met\n",
    "set\n",
    "ta\n",
    "rh\n",
    "season\n",
    "gender\n",
    "age\n",
    "probably air velocity (vel)\n",
    "and we're looking for thermal sensation\n",
    "we'll also be using the acceptability, preferance and comfort where they exist i think but that would require dropping the rows so we'll have to check\n",
    "\n",
    "Below is the code to sort the NaN array and there's a file where it gets stored sorted.\n"
   ]
  },
  {
   "cell_type": "code",
   "execution_count": 58,
   "metadata": {},
   "outputs": [],
   "source": [
    "#sort through nan series and cut all percentages above 50%\n",
    "\n",
    "nan_array_sorted = nan_array.sort_values(ascending=True) #sorts throught the series \n",
    "nan_array_sorted = nan_array_sorted[nan_array_sorted<50.0] #only keeps columns with below 50% NaN cells \n",
    "\n",
    "path = str(pathlib.Path().resolve()) + '\\data_sorted.txt' #stores file for future use\n",
    "nan_array_sorted.to_csv(path, header = None, sep = ' ')"
   ]
  },
  {
   "cell_type": "markdown",
   "metadata": {},
   "source": [
    "Next step is outliers but I'm pretty certain it's not necessary here since those are experiment data and thus already checked and inserted by hand. That said, i'm still running it just to be sure.\n",
    "\n",
    "According to zscores, on a database including only ta, rh, vel and met there's 5382 outliers. "
   ]
  },
  {
   "cell_type": "code",
   "execution_count": null,
   "metadata": {},
   "outputs": [],
   "source": [
    "#keeping only a few of the columns for the test in df_outliers dataframe\n",
    "#TODO: figure out which exact columns to keep\n",
    "df_outliers  = df[['ta', 'rh', 'vel', 'met']]\n",
    "print(df_outliers)\n"
   ]
  },
  {
   "cell_type": "code",
   "execution_count": null,
   "metadata": {},
   "outputs": [],
   "source": [
    "#different outlier methods\n",
    "#z-scores - using scipy, applying for each column and finding 3 or more deviation cells\n",
    "import scipy.stats as stats\n",
    "import math\n",
    "\n",
    "df_zscore = stats.zscore(df_outliers, nan_policy = 'omit')\n",
    "print(df_zscore)\n",
    "\n",
    "counter = 0\n",
    "for cell in df_zscore['rh']: \n",
    "    if (not math.isnan(cell)) and (cell>3 or cell<-3):\n",
    "        if counter<45: print (cell)\n",
    "        counter+=1\n",
    "print (counter)"
   ]
  },
  {
   "cell_type": "code",
   "execution_count": null,
   "metadata": {},
   "outputs": [],
   "source": [
    "#different outlier methods \n",
    "#iqr - again just checking, going to fix code here \n",
    "import numpy as np \n",
    "import math\n",
    "\n",
    "def iqr_func(column):\n",
    "    q75, q25 = np.percentile(column, [75 ,25])\n",
    "    iqr = q75 - q25\n",
    "    valid = iqr*2.0\n",
    "    counter = 0\n",
    "    for cell in column:\n",
    "        if  (not math.isnan(cell)) and (cell>q75+valid or cell<q25-valid): \n",
    "            counter+=1\n",
    "\n",
    "    return counter\n",
    "\n",
    "for col in df_outliers.columns: \n",
    "    counter = iqr_func(df_outliers[col])\n",
    "    print(counter)\n",
    "\n",
    "#supposedly better since it doesn't expect some sort of normality\n",
    "#IN THIS CASE THO? "
   ]
  },
  {
   "cell_type": "code",
   "execution_count": null,
   "metadata": {},
   "outputs": [],
   "source": [
    "#different outlier methods\n",
    "#TODO: plotting for a second - pillow doesn't work actually interested in checking this out\n",
    "import seaborn as sns \n",
    "sns.boxplot(df_outliers['ta'])"
   ]
  },
  {
   "cell_type": "code",
   "execution_count": null,
   "metadata": {},
   "outputs": [],
   "source": [
    "#different outlier methods \n",
    "#DBSCAN hopefully - isolation tree? \n"
   ]
  },
  {
   "cell_type": "markdown",
   "metadata": {},
   "source": [
    "To figure out if I need to normalize I need to know what model I will be using. That said, it's probably useful to leave space for this step and then see what to do. So that's a reminder. "
   ]
  }
 ],
 "metadata": {
  "kernelspec": {
   "display_name": "jupyter",
   "language": "python",
   "name": "python3"
  },
  "language_info": {
   "codemirror_mode": {
    "name": "ipython",
    "version": 3
   },
   "file_extension": ".py",
   "mimetype": "text/x-python",
   "name": "python",
   "nbconvert_exporter": "python",
   "pygments_lexer": "ipython3",
   "version": "3.11.9"
  }
 },
 "nbformat": 4,
 "nbformat_minor": 2
}
